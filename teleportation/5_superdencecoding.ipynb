{
 "cells": [
  {
   "cell_type": "markdown",
   "metadata": {},
   "source": [
    "# 超密度符号"
   ]
  },
  {
   "cell_type": "markdown",
   "metadata": {},
   "source": [
    "演習形式で、超密度符号をコーディングしていきます。"
   ]
  },
  {
   "attachments": {
    "image.png": {
     "image/png": "[encoded data removed]"
    }
   },
   "cell_type": "markdown",
   "metadata": {},
   "source": [
    "## 演習3\n",
    "超密度符号の回路（下の図）を自分で組んで、実行してみましょう。<br>\n",
    "![image.png](attachment:image.png)"
   ]
  },
  {
   "cell_type": "code",
   "execution_count": 1,
   "metadata": {},
   "outputs": [],
   "source": [
    "# Qiskitライブラリーを導入\n",
    "from qiskit import *\n",
    "\n",
    "# 描画のためのライブラリーを導入\n",
    "import matplotlib.pyplot as plt\n",
    "%matplotlib inline"
   ]
  },
  {
   "cell_type": "code",
   "execution_count": 2,
   "metadata": {},
   "outputs": [
    {
     "data": {
      "text/plain": [
       "{'qiskit-terra': '0.13.0',\n",
       " 'qiskit-aer': '0.5.1',\n",
       " 'qiskit-ignis': '0.3.0',\n",
       " 'qiskit-ibmq-provider': '0.7.0',\n",
       " 'qiskit-aqua': None,\n",
       " 'qiskit': '0.19.1'}"
      ]
     },
     "execution_count": 2,
     "metadata": {},
     "output_type": "execute_result"
    }
   ],
   "source": [
    "# Qiskitバージョンの確認\n",
    "qiskit.__qiskit_version__"
   ]
  },
  {
   "cell_type": "code",
   "execution_count": null,
   "metadata": {},
   "outputs": [],
   "source": [
    "# 2量子ビット回路を用意してください\n",
    "\n",
    "\n",
    "# 回路を描画して確認します\n",
    "qc.draw(output=\"mpl\")"
   ]
  },
  {
   "cell_type": "code",
   "execution_count": null,
   "metadata": {},
   "outputs": [],
   "source": [
    "# EPRペアを作ってください（AliceとBobに1個ずつ渡すものです）\n",
    "\n",
    "\n",
    "# 回路を描画して確認します\n",
    "qc.draw(output=\"mpl\")"
   ]
  },
  {
   "cell_type": "code",
   "execution_count": null,
   "metadata": {},
   "outputs": [],
   "source": [
    "# Aliceが送りたいメッセージ（２古典ビット）をセットしてください\n",
    "msg = \"xx\"    # 送りたいメッセージの入力\n",
    "\n",
    "# メッセージの値によって、Aliceが適用するゲートを作ってください\n",
    "if msg == \"00\":\n",
    "    pass\n",
    "# elif msg == \"10\":    #10の場合\n",
    "    #ゲート適用\n",
    "# 以降同じようにmsgに合わせてゲートを適用してください\n",
    "#\n",
    "#\n",
    "#\n",
    "#\n",
    "\n",
    "# 回路を描画して確認します\n",
    "qc.draw(output=\"mpl\")"
   ]
  },
  {
   "cell_type": "code",
   "execution_count": null,
   "metadata": {},
   "outputs": [],
   "source": [
    "# BobがAliceからEPRビットをもらった後に、復元するためのゲートを適用してください\n",
    "\n",
    "\n",
    "# 回路を描画します\n",
    "qc.draw(output=\"mpl\")"
   ]
  },
  {
   "cell_type": "code",
   "execution_count": null,
   "metadata": {},
   "outputs": [],
   "source": [
    "# 測定してください（Bobが行います）\n",
    "\n",
    "\n",
    "# 回路を描画します\n",
    "qc.draw(output=\"mpl\")"
   ]
  },
  {
   "cell_type": "code",
   "execution_count": null,
   "metadata": {},
   "outputs": [],
   "source": [
    "# qasm_simulator で実行して、AliceからBobに２ビットが転送されたか確認してください\n",
    "backend = Aer.get_backend('qasm_simulator')\n",
    "job_sim = execute(qc,backend)\n",
    "sim_result = job_sim.result()\n",
    "print(sim_result.get_counts(qc))\n",
    "\n",
    "from qiskit.visualization import plot_histogram\n",
    "plot_histogram(sim_result.get_counts(qc))"
   ]
  },
  {
   "cell_type": "markdown",
   "metadata": {},
   "source": [
    "送りたいメッセージが復元できましたか？<br>\n",
    "別のmsgでも確認してみましょう。"
   ]
  },
  {
   "cell_type": "code",
   "execution_count": null,
   "metadata": {},
   "outputs": [],
   "source": []
  }
 ],
 "metadata": {
  "kernelspec": {
   "display_name": "Environment (conda_qiskit019textbook)",
   "language": "python",
   "name": "conda_qiskit019textbook"
  },
  "language_info": {
   "codemirror_mode": {
    "name": "ipython",
    "version": 3
   },
   "file_extension": ".py",
   "mimetype": "text/x-python",
   "name": "python",
   "nbconvert_exporter": "python",
   "pygments_lexer": "ipython3",
   "version": "3.7.4"
  }
 },
 "nbformat": 4,
 "nbformat_minor": 2
}
