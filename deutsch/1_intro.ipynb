{
 "cells": [
  {
   "cell_type": "markdown",
   "metadata": {},
   "source": [
    "# Qiskit入門"
   ]
  },
  {
   "cell_type": "code",
   "execution_count": null,
   "metadata": {},
   "outputs": [],
   "source": [
    "# Qiskitライブラリーを導入\n",
    "from qiskit import *\n",
    "from qiskit.visualization import *\n",
    "\n",
    "# 描画のためのライブラリーを導入\n",
    "import matplotlib.pyplot as plt\n",
    "%matplotlib inline"
   ]
  },
  {
   "cell_type": "code",
   "execution_count": null,
   "metadata": {},
   "outputs": [],
   "source": [
    "# Qiskitバージョンの確認\n",
    "qiskit.__qiskit_version__"
   ]
  },
  {
   "cell_type": "markdown",
   "metadata": {},
   "source": [
    "# 1) 1量子ビット回路\n",
    "## 1.1) Xゲート"
   ]
  },
  {
   "cell_type": "code",
   "execution_count": null,
   "metadata": {},
   "outputs": [],
   "source": [
    "q = QuantumCircuit(1)    # １量子ビット回路を用意\n",
    "\n",
    "q.x(0)   # Xゲートを0番目の量子ビットに操作します。\n",
    "\n",
    "q.draw(output=\"mpl\")    # 回路を描画"
   ]
  },
  {
   "cell_type": "markdown",
   "metadata": {},
   "source": [
    "初期状態は|0>にセットされていますので、上記の量子回路は、行列ベクトル表示では\n",
    "\n",
    "$X|0\\rangle=  \\begin{pmatrix}\n",
    "0 & 1 \\\\\\\n",
    "1 & 0\n",
    "\\end{pmatrix} \n",
    "\\begin{pmatrix}\n",
    "1 \\\\\\\n",
    "0\n",
    "\\end{pmatrix} \n",
    " =\\begin{pmatrix}\n",
    "0 \\\\\\\n",
    "1\n",
    "\\end{pmatrix} = |1\\rangle$ \n",
    "\n",
    "となります。次にこの回路の出力ベクトルを状態ベクトルシミュレーターを使って実行してみます。"
   ]
  },
  {
   "cell_type": "code",
   "execution_count": null,
   "metadata": {},
   "outputs": [],
   "source": [
    "# 状態ベクトルシミュレーターの実行\n",
    "backend = Aer.get_backend('statevector_simulator')\n",
    "result = execute(q, backend).result().get_statevector(q, decimals=3)\n",
    "print(result)\n",
    "\n",
    "plot_bloch_multivector(result)    # ブロッホ球の表示"
   ]
  },
  {
   "cell_type": "markdown",
   "metadata": {},
   "source": [
    "縦ベクトルが横ベクトルになり、複素数表示で表示されています。"
   ]
  },
  {
   "cell_type": "markdown",
   "metadata": {},
   "source": [
    "## 1.2) Hゲート"
   ]
  },
  {
   "cell_type": "code",
   "execution_count": null,
   "metadata": {},
   "outputs": [],
   "source": [
    "q = QuantumCircuit(1)    # １量子ビット回路を用意\n",
    "\n",
    "q.h(0)   # Hゲートを0番目の量子ビットに操作します。\n",
    "\n",
    "q.draw(output=\"mpl\")    # 回路を描画"
   ]
  },
  {
   "cell_type": "code",
   "execution_count": null,
   "metadata": {},
   "outputs": [],
   "source": [
    "# 状態ベクトルシミュレーターの実行\n",
    "backend = Aer.get_backend('statevector_simulator')\n",
    "result = execute(q, backend).result().get_statevector(q, decimals=3)\n",
    "print(result)\n",
    "\n",
    "plot_bloch_multivector(result)    # ブロッホ球の表示"
   ]
  },
  {
   "cell_type": "markdown",
   "metadata": {},
   "source": [
    "これは、$H|0\\rangle= \\frac{1}{\\sqrt{2}} \\begin{pmatrix}\n",
    "1 & 1 \\\\\\\n",
    "1 & -1\n",
    "\\end{pmatrix} \n",
    "\\begin{pmatrix}\n",
    "1 \\\\\\\n",
    "0\n",
    "\\end{pmatrix} \n",
    " =\\frac{1}{\\sqrt{2}}\\begin{pmatrix}\n",
    "1 \\\\\\\n",
    "1\n",
    "\\end{pmatrix} \n",
    "=\\begin{pmatrix}\n",
    "0.707 \\\\\\\n",
    "0.707\n",
    "\\end{pmatrix} \n",
    "=\\frac{1}{\\sqrt{2}}（|0\\rangle+|1\\rangle)=|+\\rangle$ です。\n",
    "\n",
    "\n",
    "\n",
    "\n",
    "つまり、$H$ゲートを$|0\\rangle$に実行すると、$|0\\rangle$と$|1\\rangle$の均等な重ね合わせ状態が作れることが分かります。この状態は、$|+\\rangle$とも書きます。"
   ]
  },
  {
   "cell_type": "markdown",
   "metadata": {},
   "source": [
    "## 1.3) $|-\\rangle$の状態をつくる"
   ]
  },
  {
   "cell_type": "code",
   "execution_count": null,
   "metadata": {},
   "outputs": [],
   "source": [
    "q = QuantumCircuit(1)    # １量子ビット回路を用意 \n",
    "\n",
    "# Xゲートを0番目の量子ビットに操作します。\n",
    "q.x(0)\n",
    "\n",
    "# 次にHゲートを0番目の量子ビットに操作します。\n",
    "q.h(0)\n",
    "\n",
    "q.draw(output=\"mpl\")    # 回路を描画"
   ]
  },
  {
   "cell_type": "code",
   "execution_count": null,
   "metadata": {},
   "outputs": [],
   "source": [
    "# 状態ベクトルシミュレーターの実行\n",
    "backend = Aer.get_backend('statevector_simulator')\n",
    "result = execute(q, backend).result().get_statevector(q, decimals=3)\n",
    "print(result)\n",
    "\n",
    "plot_bloch_multivector(result)    # ブロッホ球の表示"
   ]
  },
  {
   "cell_type": "markdown",
   "metadata": {},
   "source": [
    "$H|1\\rangle= \\frac{1}{\\sqrt{2}} \\begin{pmatrix}\n",
    "1 & 1 \\\\\\\n",
    "1 & -1\n",
    "\\end{pmatrix} \n",
    "\\begin{pmatrix}\n",
    "0 \\\\\\\n",
    "1\n",
    "\\end{pmatrix} \n",
    " =\\frac{1}{\\sqrt{2}}\\begin{pmatrix}\n",
    "1 \\\\\\\n",
    "-1\n",
    "\\end{pmatrix} \n",
    "=\\begin{pmatrix}\n",
    "0.707 \\\\\\\n",
    "-0.707\n",
    "\\end{pmatrix} \n",
    "=\\frac{1}{\\sqrt{2}}（|0\\rangle-|1\\rangle)=|-\\rangle$\n",
    "\n",
    "\n",
    "$|1\\rangle$に$H$ゲートを実行した結果、$|0\\rangle$と$|1\\rangle$の均等な重ね合わせ状態になりますが、$|1\\rangle$の符号がマイナスになります。この状態は$|-\\rangle$とも書きます。"
   ]
  },
  {
   "cell_type": "markdown",
   "metadata": {},
   "source": [
    "# 2) 2量子ビット回路\n",
    "## 2.1) $|++\\rangle$の状態をつくる"
   ]
  },
  {
   "cell_type": "code",
   "execution_count": null,
   "metadata": {},
   "outputs": [],
   "source": [
    "q = QuantumCircuit(2)    # 2量子ビット回路を用意  \n",
    "\n",
    "q.h(0)    # Hゲートを0番目の量子ビットに操作します。\n",
    "q.h(1)    # Hゲートを1番目の量子ビットに操作します。\n",
    "\n",
    "q.draw(output=\"mpl\")    # 回路を描画"
   ]
  },
  {
   "cell_type": "code",
   "execution_count": null,
   "metadata": {},
   "outputs": [],
   "source": [
    "# 状態ベクトルシミュレーターの実行\n",
    "backend = Aer.get_backend('statevector_simulator')\n",
    "result = execute(q, backend).result().get_statevector(q, decimals=3)\n",
    "print(result)\n",
    "\n",
    "plot_bloch_multivector(result)    # ブロッホ球の表示"
   ]
  },
  {
   "cell_type": "markdown",
   "metadata": {},
   "source": [
    "２量子ビットの状態は、１量子ビットの積（テンソル積）で表せます。\n",
    "\n",
    "初期値 $|0\\rangle\\otimes|0\\rangle=|00\\rangle$に、$H$をそれぞれ操作させることで均等な重ね合わせの状態になります。\n",
    "\n",
    "$|++\\rangle=H|0\\rangle \\otimes H|0\\rangle=\\frac{1}{\\sqrt{2}}(|0\\rangle+|1\\rangle) \\otimes \\frac{1}{\\sqrt{2}}(|0\\rangle+|1\\rangle) =\\frac{1}{2}(|00\\rangle+|01\\rangle+|10\\rangle+|11\\rangle)$\n",
    "\n",
    "$$ \n",
    "=\\frac{1}{2}\\left( \\begin{bmatrix} 1 \\\\ 1 \\end{bmatrix} \\otimes \\begin{bmatrix} 1 \\\\ 1 \\end{bmatrix}\\right) = \\frac{1}{2}\\begin{bmatrix} 1 \\\\ 1 \\\\ 1 \\\\ 1 \\end{bmatrix}=\\frac{1}{2}\\left(\\begin{bmatrix} 1 \\\\ 0 \\\\ 0 \\\\ 0 \\end{bmatrix}+\\begin{bmatrix} 0 \\\\ 1 \\\\ 0 \\\\ 0 \\end{bmatrix}+\\begin{bmatrix} 0 \\\\ 0 \\\\ 1 \\\\ 0 \\end{bmatrix}+\\begin{bmatrix} 0 \\\\ 0 \\\\ 0 \\\\ 1 \\end{bmatrix}\\right)\n",
    "$$\n"
   ]
  },
  {
   "attachments": {
    "image.png": {
     "image/png": "[encoded data removed]"
    }
   },
   "cell_type": "markdown",
   "metadata": {},
   "source": [
    "## 2.2) CNOTゲート\n",
    "\n",
    "$CNOT$ゲート（制御NOTゲート、CXゲートなどとも呼ばれます）は、２量子ビットにかかる量子ゲートで、制御ゲートが1のときのみ、目標ゲートの値を反転します。\n",
    "![image.png](attachment:image.png)\n",
    "q0が1、q1が0の場合を計算してみましょう。"
   ]
  },
  {
   "cell_type": "code",
   "execution_count": null,
   "metadata": {},
   "outputs": [],
   "source": [
    "q = QuantumCircuit(2)    # 2量子ビット回路を用意\n",
    "\n",
    "# q0=1, q1=0の場合：q0を1にします。\n",
    "q.x(0)\n",
    "\n",
    "# CXゲートの制御ゲートをq0、目標ゲートをq1にセットします。\n",
    "q.cx(0,1)\n",
    "\n",
    "q.draw(output=\"mpl\")    # 回路を描画"
   ]
  },
  {
   "cell_type": "code",
   "execution_count": null,
   "metadata": {},
   "outputs": [],
   "source": [
    "# 状態ベクトルシミュレーターの実行\n",
    "backend = Aer.get_backend('statevector_simulator')\n",
    "result = execute(q, backend).result().get_statevector(q, decimals=3)\n",
    "print(result)\n",
    "\n",
    "plot_bloch_multivector(result)    # ブロッホ球の表示"
   ]
  },
  {
   "cell_type": "markdown",
   "metadata": {},
   "source": [
    "$|01\\rangle$ にCNOTゲートを操作した結果、$|11\\rangle$ になりました。<br><br>\n",
    "$CNOT|01\\rangle  = |11\\rangle =|1\\rangle \\otimes |1\\rangle=\\begin{bmatrix} 1 \\\\ 0 \\end{bmatrix} \\otimes \\begin{bmatrix} 0 \\\\ 1 \\end{bmatrix}=\n",
    "\\begin{bmatrix}\n",
    "0 \\\\\n",
    "0 \\\\\n",
    "0 \\\\\n",
    "1\n",
    "\\end{bmatrix} $\n",
    "\n",
    "注意！：Qiskitでは、最下位ビット(LSB)が右端で、量子力学の教科書とは逆です。つまり、1量子ビット目が一番右のビットで、2量子ビット目が右から２番目のビットになります。$|01\\rangle$ とは、q0が1で、q1が0を表しています。\n"
   ]
  },
  {
   "cell_type": "markdown",
   "metadata": {},
   "source": [
    "演習でCNOTゲートの動きをさらに確認していきます。それぞれ量子回路を組んでシミュレーションし、ブロッホ球表示で確認してみましょう。「# コードを記入」の部分にコードを入れて実行してください。"
   ]
  },
  {
   "cell_type": "markdown",
   "metadata": {},
   "source": [
    "## 演習1-(1) \n",
    "2量子ビット回路で、q0とq1がそれぞれ$|+\\rangle$の重ね合わせの場合に、制御ゲートをq0、目標ゲートをq1でCNOTゲートを操作します。<br>"
   ]
  },
  {
   "cell_type": "code",
   "execution_count": null,
   "metadata": {},
   "outputs": [],
   "source": [
    "q = QuantumCircuit(2)    # 2量子ビット回路を用意\n",
    "\n",
    "# q0とq1をそれぞれ|+⟩にします\n",
    "# コードを記入\n",
    "# コードを記入\n",
    "\n",
    "# CXゲートの制御ゲートをq0、目標ゲートをq1にセットします。\n",
    "# コードを記入\n",
    "\n",
    "q.draw(output=\"mpl\")    # 回路を描画"
   ]
  },
  {
   "cell_type": "code",
   "execution_count": null,
   "metadata": {},
   "outputs": [],
   "source": [
    "# 状態ベクトルシミュレーターの実行\n",
    "backend = Aer.get_backend('statevector_simulator')\n",
    "result = execute(q, backend).result().get_statevector(q, decimals=3)\n",
    "print(result)\n",
    "\n",
    "plot_bloch_multivector(result)    # ブロッホ球の表示"
   ]
  },
  {
   "cell_type": "markdown",
   "metadata": {},
   "source": [
    "## 演習1-(2) \n",
    "2量子ビット回路で、q0が$|+\\rangle$、q1が$|-\\rangle$の重ね合わせの場合に、制御ゲートをq0、目標ゲートをq1でCNOTゲートを操作します。<br>"
   ]
  },
  {
   "cell_type": "code",
   "execution_count": null,
   "metadata": {},
   "outputs": [],
   "source": [
    "q = QuantumCircuit(2)    # 2量子ビット回路を用意\n",
    "\n",
    "# q0を|+⟩、q1を|−⟩にします\n",
    "# コードを記入\n",
    "# コードを記入\n",
    "# コードを記入\n",
    "\n",
    "# CXゲートの制御ゲートをq0、目標ゲートをq1にセットします。\n",
    "# コードを記入\n",
    "\n",
    "q.draw(output=\"mpl\")    # 回路を描画"
   ]
  },
  {
   "cell_type": "code",
   "execution_count": null,
   "metadata": {},
   "outputs": [],
   "source": [
    "# 状態ベクトルシミュレーターの実行\n",
    "backend = Aer.get_backend('statevector_simulator')\n",
    "result = execute(q, backend).result().get_statevector(q, decimals=3)\n",
    "print(result)\n",
    "\n",
    "plot_bloch_multivector(result)    # ブロッホ球の表示"
   ]
  },
  {
   "cell_type": "markdown",
   "metadata": {},
   "source": [
    "## 演習1-(3) \n",
    "4量子ビット回路で、q0、q1、q2がすべて$|1\\rangle$の場合に、3つのCNOTゲートをそれぞれq0、q1、q2を制御、q3を目標ゲートで操作します。<br>"
   ]
  },
  {
   "cell_type": "code",
   "execution_count": null,
   "metadata": {},
   "outputs": [],
   "source": [
    "q = QuantumCircuit(4)    # 4量子ビット回路を用意\n",
    "\n",
    "# q0、q1、q2をそれぞれ|1⟩にします\n",
    "# コードを記入\n",
    "# コードを記入\n",
    "# コードを記入\n",
    "\n",
    "# cxゲートを3つ追加します。制御/目標のペアは、q0/q3、q1/q3、q2/q3です。\n",
    "# コードを記入\n",
    "# コードを記入\n",
    "# コードを記入\n",
    "\n",
    "q.draw(output='mpl')"
   ]
  },
  {
   "cell_type": "code",
   "execution_count": null,
   "metadata": {},
   "outputs": [],
   "source": [
    "# 状態ベクトルシミュレーターの実行\n",
    "backend = Aer.get_backend('statevector_simulator')\n",
    "result = execute(q, backend).result().get_statevector(q, decimals=3)\n",
    "print(result)\n",
    "\n",
    "# ブロッホ球の表示\n",
    "plot_bloch_multivector(result)"
   ]
  },
  {
   "cell_type": "markdown",
   "metadata": {},
   "source": [
    "時間がある人は、演習1-(3)の回路で、q0、q1、q2の値を$|0\\rangle$や$|1\\rangle$に変化させ、同じCNOTゲートを３つかけると、q3の状態がどうなるか実験してみてください。"
   ]
  }
 ],
 "metadata": {
  "kernelspec": {
   "display_name": "Environment (conda_qiskit0195)",
   "language": "python",
   "name": "conda_qiskit0195"
  },
  "language_info": {
   "codemirror_mode": {
    "name": "ipython",
    "version": 3
   },
   "file_extension": ".py",
   "mimetype": "text/x-python",
   "name": "python",
   "nbconvert_exporter": "python",
   "pygments_lexer": "ipython3",
   "version": "3.8.3"
  }
 },
 "nbformat": 4,
 "nbformat_minor": 2
}
