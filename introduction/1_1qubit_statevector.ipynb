{
 "cells": [
  {
   "cell_type": "markdown",
   "metadata": {},
   "source": [
    "# １量子ビット回路\n",
    "まず1量子ビット回路から始めます。"
   ]
  },
  {
   "cell_type": "code",
   "execution_count": 1,
   "metadata": {},
   "outputs": [],
   "source": [
    "# Qiskitライブラリーを導入\n",
    "from qiskit import *\n",
    "\n",
    "# 描画のためのライブラリーを導入\n",
    "import matplotlib.pyplot as plt\n",
    "%matplotlib inline"
   ]
  },
  {
   "cell_type": "code",
   "execution_count": 2,
   "metadata": {},
   "outputs": [
    {
     "data": {
      "text/plain": [
       "{'qiskit-terra': '0.12.0',\n",
       " 'qiskit-aer': '0.4.0',\n",
       " 'qiskit-ignis': '0.2.0',\n",
       " 'qiskit-ibmq-provider': '0.4.6',\n",
       " 'qiskit-aqua': '0.6.4',\n",
       " 'qiskit': '0.15.0'}"
      ]
     },
     "execution_count": 2,
     "metadata": {},
     "output_type": "execute_result"
    }
   ],
   "source": [
    "# Qiskitバージョンの確認\n",
    "qiskit.__qiskit_version__"
   ]
  },
  {
   "cell_type": "code",
   "execution_count": 3,
   "metadata": {},
   "outputs": [
    {
     "data": {
      "image/png": "[encoded data removed]",
      "text/plain": [
       "<Figure size 113.176x84.28 with 1 Axes>"
      ]
     },
     "execution_count": 3,
     "metadata": {},
     "output_type": "execute_result"
    }
   ],
   "source": [
    "# １量子ビット回路を用意\n",
    "q = QuantumCircuit(1) \n",
    "\n",
    "# 回路を描画\n",
    "q.draw(output=\"mpl\")"
   ]
  },
  {
   "cell_type": "code",
   "execution_count": 4,
   "metadata": {},
   "outputs": [
    {
     "data": {
      "image/png": "[encoded data removed]",
      "text/plain": [
       "<Figure size 173.376x84.28 with 1 Axes>"
      ]
     },
     "execution_count": 4,
     "metadata": {},
     "output_type": "execute_result"
    }
   ],
   "source": [
    "# 量子ゲートで回路を作成\n",
    "q.x(0)   # Xゲートを0番目の量子ビットに操作します。\n",
    "\n",
    "# 回路を描画\n",
    "q.draw(output=\"mpl\")"
   ]
  },
  {
   "cell_type": "markdown",
   "metadata": {},
   "source": [
    "IBMQでは、初期状態は|0>にセットされていますので、上記の量子回路は、\n",
    "\n",
    "$X|0\\rangle$\n",
    "\n",
    "を表しています。次にこの回路の出力ベクトルを状態ベクトルシミュレーターを使って実行してみます。"
   ]
  },
  {
   "cell_type": "code",
   "execution_count": 5,
   "metadata": {},
   "outputs": [
    {
     "name": "stdout",
     "output_type": "stream",
     "text": [
      "[0.+0.j 1.+0.j]\n"
     ]
    }
   ],
   "source": [
    "# 状態ベクトルシミュレーターの実行\n",
    "vector_sim = Aer.get_backend('statevector_simulator')\n",
    "job = execute( q, vector_sim )\n",
    "result = job.result().get_statevector(q, decimals=3)\n",
    "\n",
    "print(result)"
   ]
  },
  {
   "cell_type": "markdown",
   "metadata": {},
   "source": [
    "\n",
    "$X|0\\rangle=  \\begin{pmatrix}\n",
    "0 & 1 \\\\\\\n",
    "1 & 0\n",
    "\\end{pmatrix} \n",
    "\\begin{pmatrix}\n",
    "1 \\\\\\\n",
    "0\n",
    "\\end{pmatrix} \n",
    " =\\begin{pmatrix}\n",
    "0 \\\\\\\n",
    "1\n",
    "\\end{pmatrix} = |1\\rangle$ \n",
    "\n",
    "が複素数表示で表示されました。"
   ]
  },
  {
   "cell_type": "markdown",
   "metadata": {},
   "source": [
    "## 演習１\n",
    "次の回路をプログラミングし、状態ベクトルシミュレーターで実行してみましょう。\n",
    "\n",
    "(1) $XX|0\\rangle$\n",
    "\n",
    "(2) $H|0\\rangle$\n",
    "\n",
    "(3) $HH|0\\rangle$\n",
    "\n",
    "(4) $H|1\\rangle$\n",
    "\n",
    "(5) $ZH|0\\rangle$ \n",
    "\n",
    "---- ($|0\\rangle$に$H$をかけたあと、$Z$をかけるという意味です。）\n",
    "\n",
    "(6) $ZH|1\\rangle$\n",
    "\n",
    "ヒント：\n",
    "$XX|0\\rangle$は、\n",
    "\n",
    "    q.x(0)\n",
    "    q.x(0)\n",
    "\n",
    "と２回繰り返します。"
   ]
  },
  {
   "cell_type": "code",
   "execution_count": null,
   "metadata": {},
   "outputs": [],
   "source": []
  }
 ],
 "metadata": {
  "kernelspec": {
   "display_name": "Qiskit",
   "language": "python",
   "name": "qiskit"
  },
  "language_info": {
   "codemirror_mode": {
    "name": "ipython",
    "version": 3
   },
   "file_extension": ".py",
   "mimetype": "text/x-python",
   "name": "python",
   "nbconvert_exporter": "python",
   "pygments_lexer": "ipython3",
   "version": "3.7.3"
  }
 },
 "nbformat": 4,
 "nbformat_minor": 2
}
